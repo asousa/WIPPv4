{
 "cells": [
  {
   "cell_type": "code",
   "execution_count": 1,
   "metadata": {
    "collapsed": false
   },
   "outputs": [
    {
     "name": "stderr",
     "output_type": "stream",
     "text": [
      "/Users/austin/miniconda/lib/python2.7/site-packages/matplotlib/__init__.py:872: UserWarning: text.fontsize is deprecated and replaced with font.size; please use the latter.\n",
      "  warnings.warn(self.msg_depr % (key, alt_key))\n"
     ]
    }
   ],
   "source": [
    "import numpy as np\n",
    "import pandas as pd\n",
    "import pickle\n",
    "#from build_database import flux_obj\n",
    "from scipy import interpolate\n",
    "import matplotlib.pyplot as plt\n",
    "import os\n",
    "import itertools\n",
    "import random\n",
    "import os\n",
    "%matplotlib inline\n",
    "# Autoload changes made in external editor:\n",
    "%load_ext autoreload\n",
    "%autoreload 2\n",
    "\n",
    "# --------------- Latex Plot Beautification --------------------------\n",
    "fig_width_pt = 650.0  # Get this from LaTeX using \\showthe\\columnwidth\n",
    "inches_per_pt = 1.0/72.27               # Convert pt to inch\n",
    "golden_mean = (np.sqrt(5)-1.0)/2.0         # Aesthetic ratio\n",
    "fig_width = fig_width_pt*inches_per_pt  # width in inches\n",
    "fig_height = fig_width*golden_mean*2      # height in inches\n",
    "fig_size =  [fig_width+1,fig_height+1]\n",
    "params = {'backend': 'ps',\n",
    "          'axes.labelsize': 14,\n",
    "          'text.fontsize': 14,\n",
    "          'legend.fontsize': 10,\n",
    "          'xtick.labelsize': 10,\n",
    "          'ytick.labelsize': 10,\n",
    "          'text.usetex': False,\n",
    "          'figure.figsize': fig_size}\n",
    "plt.rcParams.update(params)\n",
    "\n",
    "# --------------- Latex Plot Beautification --------------------------"
   ]
  },
  {
   "cell_type": "code",
   "execution_count": 16,
   "metadata": {
    "collapsed": false
   },
   "outputs": [
    {
     "name": "stdout",
     "output_type": "stream",
     "text": [
      "loading  /Users/austin/FUSE/shared/users/asousa/WIPP/WIPPv4/rays/MPItest/newray200.dat\n"
     ]
    }
   ],
   "source": [
    "from matplotlib import collections  as mc\n",
    "from load_rayfile import load_rayfile\n",
    "import re\n",
    "\n",
    "ray_dir = '/Users/austin/FUSE/shared/users/asousa/WIPP/WIPPv4/rays/RT_debugging/'\n",
    "\n",
    "# Get files, frequencies:\n",
    "d = os.listdir(ray_dir)\n",
    "\n",
    "\n",
    "# -- Check which frequencies we have --\n",
    "freqs_ray  = []\n",
    "freqs_damp = []\n",
    "\n",
    "p = re.compile(\"\\d+\")\n",
    "for s in d:\n",
    "    if s.endswith(\".dat\"):\n",
    "        if s.startswith('newray'):\n",
    "            tmp = p.findall(s)\n",
    "            freqs_ray.append(int(tmp[0]))\n",
    "\n",
    "        elif s.startswith('d'):\n",
    "            tmp = p.findall(s)\n",
    "            freqs_damp.append(int(tmp[0]))\n",
    "\n",
    "freqs_ray.sort()\n",
    "freqs_damp.sort()\n",
    "\n",
    "# -- confirm we have the same damping and ray files: --\n",
    "assert freqs_ray == freqs_damp, \"mismatch between rayfiles and damping files!\"\n",
    "\n",
    "\n",
    "frequency = freqs_ray[0]\n",
    "RF = load_rayfile(ray_dir, frequency)\n",
    "\n",
    "\n"
   ]
  },
  {
   "cell_type": "code",
   "execution_count": 112,
   "metadata": {
    "collapsed": false
   },
   "outputs": [
    {
     "name": "stdout",
     "output_type": "stream",
     "text": [
      "loading  /Users/austin/FUSE/shared/users/asousa/WIPP/WIPPv4/rays/RT_debugging/newray200.dat\n",
      "loading  /Users/austin/FUSE/shared/users/asousa/WIPP/WIPPv4/rays/RT_debugging/newray209.dat\n",
      "loading  /Users/austin/FUSE/shared/users/asousa/WIPP/WIPPv4/rays/RT_debugging/newray218.dat\n",
      "(3, 160)\n"
     ]
    }
   ],
   "source": [
    "ray_dir = '/Users/austin/FUSE/shared/users/asousa/WIPP/WIPPv4/rays/RT_debugging/'\n",
    "\n",
    "nsteps = []\n",
    "tg_end = []\n",
    "lat_list = []\n",
    "\n",
    "for frequency in freqs_ray[0:3]:\n",
    "    RF = load_rayfile(ray_dir, frequency)\n",
    "    lats = sorted(RF.keys())\n",
    "    lat_list.append(lats)\n",
    "    nsteps.append([np.shape(RF[l])[0] for l in lats])\n",
    "    tg_end.append([RF[l]['tg'].tail(1) for l in lats])\n",
    "\n",
    "print np.shape(nsteps)"
   ]
  },
  {
   "cell_type": "code",
   "execution_count": 113,
   "metadata": {
    "collapsed": false
   },
   "outputs": [
    {
     "data": {
      "text/plain": [
       "[<matplotlib.lines.Line2D at 0x1132a1e90>]"
      ]
     },
     "execution_count": 113,
     "metadata": {},
     "output_type": "execute_result"
    },
    {
     "data": {
      "image/png": "[encoded data removed]",
      "text/plain": [
       "<matplotlib.figure.Figure at 0x111cfa210>"
      ]
     },
     "metadata": {},
     "output_type": "display_data"
    }
   ],
   "source": [
    "# plt.figure()\n",
    "plt.plot(lats,tg_end[2])"
   ]
  },
  {
   "cell_type": "code",
   "execution_count": 93,
   "metadata": {
    "collapsed": false
   },
   "outputs": [
    {
     "data": {
      "text/plain": [
       "array([[array([ 0.]), array([ 0.63196772]), array([ 0.70157057]),\n",
       "        array([ 0.7656554]), array([ 0.91194195]), array([ 1.158322]),\n",
       "        array([ 1.0358737]), array([ 0.81801283]), array([ 1.0132772]),\n",
       "        array([ 0.77103817]), array([ 0.8014791]), array([ 0.84360582]),\n",
       "        array([ 0.88976556]), array([ 0.94624197]), array([ 0.92339867]),\n",
       "        array([ 1.0067356]), array([ 1.1068779]), array([ 1.2411815]),\n",
       "        array([ 5.0007672]), array([ 5.0006351]), array([ 5.0017381]),\n",
       "        array([ 5.00208]), array([ 5.0001364]), array([ 5.0003409]),\n",
       "        array([ 0.00647649]), array([ 5.0034523]), array([ 5.0023522]),\n",
       "        array([ 5.0004272]), array([ 5.0003724]), array([ 5.0004616]),\n",
       "        array([ 5.001267]), array([ 5.0001369]), array([ 5.0028548]),\n",
       "        array([ 5.0039854]), array([ 5.0042734]), array([ 5.0024309]),\n",
       "        array([ 5.0037494]), array([ 5.002388]), array([ 5.0032778]),\n",
       "        array([ 5.0038061]), array([ 5.0018649]), array([ 5.0005798]),\n",
       "        array([ 5.0046663]), array([ 5.0002532]), array([ 5.0005755]),\n",
       "        array([ 5.0006604]), array([ 5.0010982]), array([ 5.0035596]),\n",
       "        array([ 5.0009336]), array([ 5.0021291]), array([ 5.0003128]),\n",
       "        array([ 5.00348]), array([ 5.0040889]), array([ 5.0009208]),\n",
       "        array([ 5.0027962]), array([ 5.0014215]), array([ 5.0008678]),\n",
       "        array([ 5.0038657]), array([ 5.0028081]), array([ 5.0016718]),\n",
       "        array([ 5.0005393]), array([ 5.0031514]), array([ 5.0027046]),\n",
       "        array([ 5.0002546]), array([ 5.0015144]), array([ 5.0001388]),\n",
       "        array([ 5.0006838]), array([ 5.0006208]), array([ 5.0016346]),\n",
       "        array([ 5.0002069]), array([ 5.0007811]), array([ 5.0015311]),\n",
       "        array([ 5.0019774]), array([ 0.00239956]), array([ 5.0000672]),\n",
       "        array([ 5.0033622]), array([ 5.0000601]), array([ 5.0024447]),\n",
       "        array([ 5.0007906]), array([ 5.0011458]), array([ 5.0028172]),\n",
       "        array([ 5.002234]), array([ 5.0003266]), array([ 5.00454]),\n",
       "        array([ 5.0010982]), array([ 5.0008526]), array([ 5.0033393]),\n",
       "        array([ 5.0007715]), array([ 5.0035586]), array([ 5.0002718]),\n",
       "        array([ 5.000813]), array([ 5.0004277]), array([ 5.0005774]),\n",
       "        array([ 5.0015082]), array([ 5.0005183]), array([ 5.0011225]),\n",
       "        array([ 5.0018768]), array([ 5.0010662]), array([ 5.0006013]),\n",
       "        array([ 5.0031128]), array([ 5.0028391]), array([ 5.0031424]),\n",
       "        array([ 5.0007539]), array([ 5.000567]), array([ 5.0019097]),\n",
       "        array([ 5.0001354]), array([ 5.0008841]), array([ 5.0027318]),\n",
       "        array([ 5.0004902]), array([ 5.0024667]), array([ 5.0003376]),\n",
       "        array([ 5.0024686]), array([ 5.0005674]), array([ 5.0029764]),\n",
       "        array([ 5.001018]), array([ 5.0003266]), array([ 5.0020366]),\n",
       "        array([ 5.0003023]), array([ 5.0030727]), array([ 5.0019908]),\n",
       "        array([ 5.0006695]), array([ 5.0013337]), array([ 5.0017567]),\n",
       "        array([ 5.0021257]), array([ 5.0011439]), array([ 5.0006223]),\n",
       "        array([ 5.0001688]), array([ 5.0015116]), array([ 5.0008931]),\n",
       "        array([ 5.0016608]), array([ 5.0018678]), array([ 5.000669]),\n",
       "        array([ 5.00316]), array([ 5.0022821]), array([ 5.0023861]),\n",
       "        array([ 5.0008378]), array([ 5.000958]), array([ 5.0022511]),\n",
       "        array([ 5.0026255]), array([ 5.0406966]), array([ 5.0007691]),\n",
       "        array([ 5.0231628]), array([ 5.1160736]), array([ 5.011529]),\n",
       "        array([ 5.0129037]), array([ 5.1627884]), array([ 5.0215726]),\n",
       "        array([ 5.0451064]), array([ 5.068944]), array([ 5.074894]),\n",
       "        array([ 5.0156999]), array([ 5.141161]), array([ 5.2837925]),\n",
       "        array([ 5.0241156]), array([ 5.0957656]), array([ 5.0882831]),\n",
       "        array([ 5.1475682]), array([ 5.1446891]), array([ 5.0037231]),\n",
       "        array([ 5.0398388])],\n",
       "       [array([], dtype=float64), array([ 0.66459233]),\n",
       "        array([ 0.71609783]), array([ 0.78327334]), array([ 0.9474842]),\n",
       "        array([ 1.4407271]), array([ 1.0838042]), array([ 0.82451224]),\n",
       "        array([ 1.0456809]), array([ 0.78784239]), array([ 0.82685113]),\n",
       "        array([ 0.86614692]), array([ 0.92306548]), array([ 0.98780411]),\n",
       "        array([ 0.97224331]), array([ 1.0597619]), array([ 1.1825197]),\n",
       "        array([ 1.4636855]), array([ 5.001719]), array([ 5.0033288]),\n",
       "        array([ 5.000864]), array([ 5.0053515]), array([ 5.0015736]),\n",
       "        array([ 5.0051274]), array([ 5.0038695]), array([ 5.0002742]),\n",
       "        array([ 5.0024385]), array([ 5.0031829]), array([ 5.0020909]),\n",
       "        array([ 5.000536]), array([ 5.0027847]), array([ 5.0020151]),\n",
       "        array([ 5.0029507]), array([ 5.0048494]), array([ 5.000874]),\n",
       "        array([ 5.0002379]), array([ 5.0055084]), array([ 5.0011001]),\n",
       "        array([ 5.0003629]), array([ 5.0001373]), array([ 5.0010734]),\n",
       "        array([ 5.0022345]), array([ 5.0028243]), array([ 5.0001674]),\n",
       "        array([ 5.000587]), array([ 5.000545]), array([ 5.0011821]),\n",
       "        array([ 5.0016174]), array([ 5.0004611]), array([ 5.0023746]),\n",
       "        array([ 5.0037313]), array([ 5.0009313]), array([ 5.0012751]),\n",
       "        array([ 5.0005054]), array([ 5.0017676]), array([ 5.0014129]),\n",
       "        array([ 5.0022669]), array([ 5.0004516]), array([ 5.00001]),\n",
       "        array([ 5.0001631]), array([ 5.002418]), array([ 5.0007281]),\n",
       "        array([ 5.0032625]), array([ 5.0025115]), array([ 5.0013843]),\n",
       "        array([ 5.0026016]), array([ 5.0014582]), array([ 5.0015311]),\n",
       "        array([ 5.0017109]), array([ 5.0003009]), array([ 5.0017357]),\n",
       "        array([ 5.0004673]), array([ 5.0012336]), array([ 5.0021572]),\n",
       "        array([ 5.0022035]), array([ 5.0006156]), array([ 5.0018277]),\n",
       "        array([ 5.0000453]), array([ 5.0004239]), array([ 5.0000243]),\n",
       "        array([ 5.0012493]), array([ 5.0010314]), array([ 5.0044308]),\n",
       "        array([ 5.0010533]), array([ 5.0010924]), array([ 5.0024714]),\n",
       "        array([ 5.0005913]), array([ 5.0000401]), array([ 5.0017161]),\n",
       "        array([ 5.0012441]), array([ 5.0000134]), array([ 5.0025654]),\n",
       "        array([ 5.0003729]), array([ 5.0005293]), array([ 5.0026002]),\n",
       "        array([ 5.0015883]), array([ 5.0023565]), array([ 5.0006986]),\n",
       "        array([ 5.0019336]), array([ 5.0009208]), array([ 5.0004773]),\n",
       "        array([ 5.0003467]), array([ 5.000844]), array([ 5.0015163]),\n",
       "        array([ 5.0027161]), array([ 5.0008793]), array([ 5.0015135]),\n",
       "        array([ 5.0001292]), array([ 5.0010209]), array([ 5.0028391]),\n",
       "        array([ 5.0008545]), array([ 5.0030088]), array([ 5.0009499]),\n",
       "        array([ 5.0000277]), array([ 5.0013018]), array([ 5.0006027]),\n",
       "        array([ 5.0020289]), array([ 5.0003576]), array([ 5.0029955]),\n",
       "        array([ 5.0018449]), array([ 5.0006442]), array([ 5.0012994]),\n",
       "        array([ 5.0017023]), array([ 5.0021024]), array([ 5.0012431]),\n",
       "        array([ 5.0008283]), array([ 5.0004439]), array([ 5.0008907]),\n",
       "        array([ 5.003469]), array([ 5.0007691]), array([ 5.0030789]),\n",
       "        array([ 5.0003357]), array([ 5.0003638]), array([ 5.0011177]),\n",
       "        array([ 5.001687]), array([ 5.000071]), array([ 5.0005541]),\n",
       "        array([ 5.001965]), array([ 5.0001178]), array([ 5.012239]),\n",
       "        array([ 5.0000443]), array([ 5.0020642]), array([ 5.0320745]),\n",
       "        array([ 5.1593695]), array([ 5.0679612]), array([ 5.1126337]),\n",
       "        array([ 5.1239758]), array([ 5.1187162]), array([ 5.2641578]),\n",
       "        array([ 5.0226841]), array([ 5.0804815]), array([ 5.0571823]),\n",
       "        array([ 5.065764]), array([ 5.1016865]), array([ 5.1624351]),\n",
       "        array([ 5.0719686]), array([ 5.0612512]), array([ 5.1411233]),\n",
       "        array([ 5.3023582]), array([ 5.0580783])],\n",
       "       [array([], dtype=float64), array([ 0.71829313]),\n",
       "        array([ 0.70270306]), array([ 0.82856172]), array([ 0.91452658]),\n",
       "        array([ 1.1689487]), array([ 1.1882012]), array([ 1.0976611]),\n",
       "        array([ 0.78270054]), array([ 1.0567414]), array([ 0.8554638]),\n",
       "        array([ 0.90614808]), array([ 0.968095]), array([ 1.0436246]),\n",
       "        array([ 1.0316366]), array([ 1.1420058]), array([ 1.3383269]),\n",
       "        array([ 5.0015354]), array([ 1.3952652]), array([ 1.4652059]),\n",
       "        array([ 5.0008826]), array([ 5.0022097]), array([ 5.0010033]),\n",
       "        array([ 0.00642531]), array([ 5.0036111]), array([ 5.0013833]),\n",
       "        array([ 5.0039105]), array([ 5.0004501]), array([ 5.0023265]),\n",
       "        array([ 5.000668]), array([ 5.0001903]), array([ 5.0046043]),\n",
       "        array([ 5.0012021]), array([ 5.003366]), array([ 5.0018501]),\n",
       "        array([ 5.0024915]), array([ 5.0037179]), array([ 5.0030885]),\n",
       "        array([ 5.0017371]), array([ 5.0012274]), array([ 5.0016613]),\n",
       "        array([ 5.0008063]), array([ 5.0026217]), array([ 5.0018244]),\n",
       "        array([ 5.0037618]), array([ 5.0027781]), array([ 5.0009356]),\n",
       "        array([ 5.0001945]), array([ 5.0008802]), array([ 5.0024881]),\n",
       "        array([ 5.0019207]), array([ 5.0011511]), array([ 5.000123]),\n",
       "        array([ 5.002296]), array([ 5.0001397]), array([ 5.0027299]),\n",
       "        array([ 5.0005517]), array([ 5.0021524]), array([ 5.0034437]),\n",
       "        array([ 5.0001111]), array([ 5.0007873]), array([ 5.000402]),\n",
       "        array([ 5.0006423]), array([ 5.0015192]), array([ 5.0026793]),\n",
       "        array([ 5.0030322]), array([ 5.0014753]), array([ 5.0013051]),\n",
       "        array([ 5.0027356]), array([ 5.0004025]), array([ 5.0029769]),\n",
       "        array([ 5.0015197]), array([ 5.0009856]), array([ 5.0017157]),\n",
       "        array([ 5.0005269]), array([ 5.000967]), array([ 5.0002961]),\n",
       "        array([ 5.0014162]), array([ 5.0008559]), array([ 5.0020103]),\n",
       "        array([ 5.001061]), array([ 5.0037937]), array([ 5.0007133]),\n",
       "        array([ 5.0015354]), array([ 5.0038209]), array([ 5.0016189]),\n",
       "        array([ 5.0031934]), array([ 5.0006633]), array([ 5.000103]),\n",
       "        array([ 5.0031152]), array([ 5.0023732]), array([ 5.0023479]),\n",
       "        array([ 5.0017691]), array([ 5.0008941]), array([ 5.003016]),\n",
       "        array([ 5.0025349]), array([ 5.0023799]), array([ 5.0031481]),\n",
       "        array([ 5.0006847]), array([ 5.0001268]), array([ 5.0003638]),\n",
       "        array([ 5.0029678]), array([ 5.0023313]), array([ 5.0027671]),\n",
       "        array([ 5.0005841]), array([ 5.0014753]), array([ 5.0029426]),\n",
       "        array([ 5.0004973]), array([ 5.0022488]), array([ 5.0009885]),\n",
       "        array([ 5.0017238]), array([ 5.000906]), array([ 5.0017414]),\n",
       "        array([ 5.0009542]), array([ 5.0019131]), array([ 5.0002747]),\n",
       "        array([ 5.0025692]), array([ 5.000886]), array([ 5.000226]),\n",
       "        array([ 5.0019984]), array([ 5.000042]), array([ 5.0020051]),\n",
       "        array([ 5.0022635]), array([ 5.0026402]), array([ 5.0021305]),\n",
       "        array([ 5.0006332]), array([ 5.0015121]), array([ 5.0005279]),\n",
       "        array([ 5.0023203]), array([ 5.0017724]), array([ 5.0017686]),\n",
       "        array([ 5.0010056]), array([ 5.0024953]), array([ 5.0030584]),\n",
       "        array([ 5.0009403]), array([ 5.0016088]), array([ 5.0013118]),\n",
       "        array([ 5.0011134]), array([ 5.0004063]), array([ 5.0040808]),\n",
       "        array([ 5.0022807]), array([ 5.0003181]), array([ 5.1208434]),\n",
       "        array([ 5.0152855]), array([ 5.0179782]), array([ 5.025341]),\n",
       "        array([ 5.0740995]), array([ 5.1057839]), array([ 5.1104722]),\n",
       "        array([ 5.0916348]), array([ 5.0285993]), array([ 5.008544]),\n",
       "        array([ 5.0225048]), array([ 5.3159719]), array([ 5.0181684]),\n",
       "        array([ 5.1114964]), array([ 5.0395164]), array([ 5.1349993]),\n",
       "        array([ 5.2217565]), array([ 5.0184865])]], dtype=object)"
      ]
     },
     "execution_count": 93,
     "metadata": {},
     "output_type": "execute_result"
    }
   ],
   "source": [
    "np.array(tg_end)"
   ]
  }
 ],
 "metadata": {
  "kernelspec": {
   "display_name": "Python 2",
   "language": "python",
   "name": "python2"
  },
  "language_info": {
   "codemirror_mode": {
    "name": "ipython",
    "version": 2
   },
   "file_extension": ".py",
   "mimetype": "text/x-python",
   "name": "python",
   "nbconvert_exporter": "python",
   "pygments_lexer": "ipython2",
   "version": "2.7.11"
  }
 },
 "nbformat": 4,
 "nbformat_minor": 0
}
